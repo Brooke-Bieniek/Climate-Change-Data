{
  "nbformat": 4,
  "nbformat_minor": 0,
  "metadata": {
    "colab": {
      "provenance": [],
      "authorship_tag": "ABX9TyOVu7TYdDW7NhBYvr9K4y0t",
      "include_colab_link": true
    },
    "kernelspec": {
      "name": "python3",
      "display_name": "Python 3"
    },
    "language_info": {
      "name": "python"
    }
  },
  "cells": [
    {
      "cell_type": "markdown",
      "metadata": {
        "id": "view-in-github",
        "colab_type": "text"
      },
      "source": [
        "<a href=\"https://colab.research.google.com/github/Brooke-Bieniek/Climate-Change-Data/blob/main/Dataset_2Brooke_Bieniek.ipynb\" target=\"_parent\"><img src=\"https://colab.research.google.com/assets/colab-badge.svg\" alt=\"Open In Colab\"/></a>"
      ]
    },
    {
      "cell_type": "code",
      "execution_count": null,
      "metadata": {
        "id": "jMqUxEQlysUZ"
      },
      "outputs": [],
      "source": []
    },
    {
      "cell_type": "markdown",
      "source": [
        "## Overview\n",
        "For this you will be using Python to create and merge two subsets of average temperture changes in differernt season in differernt states using date provided by the Washington Post\n",
        ">For this dataset we will look at Alabama and Maine for the average temperture change\n",
        "\n",
        "The Finished dataset should contain a subset that displays the average temperture change between the Alabama and Maine in the Summer, Winter, Spring, and Fall\n",
        "\n",
        "----\n",
        "## Purpose\n",
        "Climate Change is one of the most important issues the world is currently facing. Data has been an important piece in seeing the affects of climate change. In analyzing data of temperture changes over an extented period of time in different regions, we are able to understand the changes happening there.\n",
        "\n",
        "----\n",
        "## Getting Started\n",
        "First, you will want to create a folder (name it whatever you want) in the file explorer on your device\n",
        "\n",
        "2. Download the Washington Post Climate Change Dataset [Here](https://github.com/washingtonpost/data-2C-beyond-the-limit-usa/blob/main/data/processed/model_state.csv)\n",
        "3. Import pandas and numpy packages as seen below\n",
        "  \n",
        "*Make sure to include   **as pd** after the import statement in order to make it easier to call functions later in Pandas*\n",
        "\n",
        "```\n",
        "import pandas as pd\n",
        "````\n",
        "```\n",
        "import numpy as np\n",
        "````\n",
        "4. Read the file with pandas\n",
        ">The file can be read using the **.read_csv()** function with the file name in the paraenthesis\n",
        "> *You can change the file name on the left side of the `=`*\n",
        "````\n",
        "dataFrame = pd.read_csv(\"model_state.csv\")\n",
        "`````\n",
        "\n",
        "````\n",
        "DataFrame\n",
        "````\n",
        "![This is an alt text.](Data Visualization.png)\n",
        "\n",
        "\n",
        "-----------\n",
        "### Filtering our Data\n",
        "Now that you have all the data, we can begin by isolating the values in the \"Summer\",\"Winter\", \"Spring\", \"Fall\" Columns\n",
        ">The `.loc`function is used to display a range of rows for a specific set of columns of our choosing\n",
        "\n",
        "````\n",
        "sub = DataFrame.loc[:, [\"Summer\", \"Winter\", \"Spring\", \"Fall\", \"STATE_NAME\"]].copy()\n",
        "``````\n",
        "Make sure to test your dataset to see if it is working\n",
        "\n",
        "```\n",
        "sub\n",
        "``````\n",
        "----\n",
        "## Creating our First Subset\n",
        "Now that we isolated our ''Seasons'' Values, we'll build our subset for the State \"Maine\"\n",
        "\n",
        ">To isolate the state \"Maine\", we will use `.loc[ : , ]` Function\n",
        "\n",
        ">Since \"Maine\" is in row 16 we will put that in the bracket\n",
        "\n",
        "**North will be the name of our subset**\n",
        "\n",
        "`````\n",
        "north=DataFrame.loc[16:16,[\"Summer\", \"Fall\", \"Winter\", \"Spring\", \"STATE_NAME\"]].copy()\n",
        "``````\n",
        ">Make sure to use `.copy()` to avoid a `settingwithcopyWarning` later\n",
        "\n",
        ">**display subset to make sure it is working**\n",
        "````\n",
        "north\n",
        "````\n",
        "\n",
        "-------\n",
        "## Creating our Second Subset\n",
        "Now lets build our second subset for the State \"Alabama\"\n",
        ">\"Alabama\" is in row 0:0, so this is what we will put in the beginning of the bracket\n",
        "\n",
        ">**south will be the name of this subset**\n",
        "\n",
        "```\n",
        "south= DataFrame.loc[0:0,[\"Summer\", \"Fall\", \"Winter\", \"Spring\",\"STATE_NAME\"]].copy()\n",
        "````\n",
        "Display Subset to make sure it is working\n",
        "\n",
        "```\n",
        "south\n",
        "```\n",
        "\n",
        "\n",
        "## Merging the Subsets\n",
        "1. Use the `pd.concat()` function to combine a list of data into **one** DataFrame\n",
        "\n",
        ">Make sure that the references to the subset our in their own bracket within the parenthesis\n",
        "```\n",
        "mergedData = pd.concat([north,south]).copy()\n",
        "````\n",
        ">Make sure to test the subset to see if it is working\n",
        "```\n",
        "mergedData\n",
        "````\n",
        "Now you can analyze the change in temperture in the different season for a northern state \"Maine\" and a southern state \"Alabama\"\n",
        "  \n",
        "  ## You have succesfully created a new Subset of this Data!!!!!!!!!"
      ],
      "metadata": {
        "id": "0DXbore2Tj7i"
      }
    },
    {
      "cell_type": "markdown",
      "source": [],
      "metadata": {
        "id": "G_vlyPvIkPis"
      }
    }
  ]
}